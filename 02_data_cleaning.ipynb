{
 "cells": [
  {
   "cell_type": "code",
   "execution_count": 13,
   "id": "1be45862-e17d-42ae-bfbb-7086dd8a840e",
   "metadata": {},
   "outputs": [
    {
     "name": "stdout",
     "output_type": "stream",
     "text": [
      "data has been clean successfully\n"
     ]
    }
   ],
   "source": [
    "import json\n",
    "def cleaning_data(data):\n",
    "    # REMOVE USERS WITH MISSING NAME\n",
    "    data[\"users\"]= [user for user in data[\"users\"] if user[\"name\"].strip()]\n",
    "    \n",
    "    # REMOVE DUPLICATES FRIEND\n",
    "    for user in data[\"users\"]:\n",
    "        user[\"friends\"]=list(set(user[\"friends\"]))\n",
    "        \n",
    "    # REMOVE INACTIVE USER\n",
    "    data[\"users\"]= [user for user in data[\"users\"] if user[\"friends\"] or user[\"liked_pages\"]]\n",
    "    \n",
    "    # REMOVE DUPLICATES PAGES\n",
    "    unique_pages={}\n",
    "    for page in data[\"pages\"]:\n",
    "        unique_pages[page['id']]= page\n",
    "    data[\"pages\"]=list(unique_pages.values())\n",
    "      \n",
    "    return data\n",
    "   \n",
    "file=open(\"data2.json\",\"r\") \n",
    "data=json.load(file) \n",
    "data=cleaning_data(data) \n",
    "json.dump(data, open(\"cleaned_data.json\",\"w\"),indent=4)\n",
    "print(\"data has been clean successfully\")\n",
    "\n"
   ]
  }
 ],
 "metadata": {
  "kernelspec": {
   "display_name": "Python 3",
   "language": "python",
   "name": "python3"
  },
  "language_info": {
   "codemirror_mode": {
    "name": "ipython",
    "version": 3
   },
   "file_extension": ".py",
   "mimetype": "text/x-python",
   "name": "python",
   "nbconvert_exporter": "python",
   "pygments_lexer": "ipython3",
   "version": "3.6.13"
  }
 },
 "nbformat": 4,
 "nbformat_minor": 5
}
