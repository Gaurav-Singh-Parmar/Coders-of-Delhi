{
 "cells": [
  {
   "cell_type": "code",
   "execution_count": 1,
   "id": "19a3d7dd-09eb-493a-b7c4-fe9612371710",
   "metadata": {},
   "outputs": [],
   "source": [
    "import json"
   ]
  },
  {
   "cell_type": "code",
   "execution_count": 2,
   "id": "4339d0c5-b57e-4389-9f13-54d320efd360",
   "metadata": {},
   "outputs": [],
   "source": [
    "def load_data(filename):\n",
    "    with open(filename,\"r\") as file:\n",
    "        return json.load(file)"
   ]
  },
  {
   "cell_type": "code",
   "execution_count": 4,
   "id": "6f52f5e0-4d7d-46cf-b5b3-4df19889da7a",
   "metadata": {},
   "outputs": [
    {
     "name": "stdout",
     "output_type": "stream",
     "text": [
      "[4]\n"
     ]
    }
   ],
   "source": [
    "def people_you_may_know(user_id,data):\n",
    "    user_friends={}\n",
    "    for user in data['users']:\n",
    "        user_friends[user['id']]=set(user['friends'])\n",
    "    \n",
    "    if user_id not in user_friends:\n",
    "        return []\n",
    "    \n",
    "    direct_friends=user_friends[user_id]\n",
    "    suggestion={}\n",
    "    for friend in direct_friends:\n",
    "        for mutual in user_friends[friend]:\n",
    "            if mutual!=user_id and mutual not in direct_friends:\n",
    "                #COUNT MUTUAL FRIENDS\n",
    "                 suggestion[mutual]=suggestion.get(mutual,0)+1\n",
    "    \n",
    "    sorted_suggestion=sorted(suggestion.items(), key=lambda x:x[1], reverse=True)\n",
    "    return [user_id for user_id, mutual_count in sorted_suggestion]\n",
    "    \n",
    "data=load_data(\"data.json\")\n",
    "user_id=1\n",
    "recc=people_you_may_know(user_id,data)\n",
    "print(recc)\n",
    "\n",
    "                \n",
    "            \n",
    "        "
   ]
  }
 ],
 "metadata": {
  "kernelspec": {
   "display_name": "Python 3",
   "language": "python",
   "name": "python3"
  },
  "language_info": {
   "codemirror_mode": {
    "name": "ipython",
    "version": 3
   },
   "file_extension": ".py",
   "mimetype": "text/x-python",
   "name": "python",
   "nbconvert_exporter": "python",
   "pygments_lexer": "ipython3",
   "version": "3.6.13"
  }
 },
 "nbformat": 4,
 "nbformat_minor": 5
}
